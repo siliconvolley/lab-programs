{
 "cells": [
  {
   "cell_type": "code",
   "execution_count": null,
   "metadata": {},
   "outputs": [],
   "source": [
    "import numpy as np\n",
    "import pandas as pd"
   ]
  },
  {
   "cell_type": "code",
   "execution_count": null,
   "metadata": {},
   "outputs": [],
   "source": [
    "data = pd.DataFrame(data=pd.read_csv('..\\datasets\\P2_dataset.csv'))\n",
    "print(data)\n",
    "print(\"\\n\")\n",
    "\n",
    "concepts = np.array(data.iloc[:,0:-1])\n",
    "print(concepts)\n",
    "\n",
    "target = np.array(data.iloc[:,-1])\n",
    "print(target)"
   ]
  },
  {
   "cell_type": "code",
   "execution_count": null,
   "metadata": {},
   "outputs": [],
   "source": [
    "specific_h = concepts[0].copy()\n",
    "print(\"\\nInitialization of specific_h\")\n",
    "print(specific_h)\n",
    "\n",
    "print(\"\\nInitialization of general_h\")\n",
    "general_h = [[\"?\" for i in range(len(specific_h))] for i in range(len(specific_h))]\n",
    "print(general_h)"
   ]
  },
  {
   "cell_type": "code",
   "execution_count": null,
   "metadata": {},
   "outputs": [],
   "source": [
    "for i, h in enumerate(concepts):\n",
    "\n",
    "    if target[i] == \"Yes\":\n",
    "        for x in range(len(specific_h)):\n",
    "\n",
    "            if h[x] != specific_h[x]:\n",
    "                specific_h[x] = '?'\n",
    "                general_h[x][x] = '?'\n",
    "\n",
    "    if target[i] == \"No\":\n",
    "        for x in range(len(specific_h)):\n",
    "            if h[x] != specific_h[x]:\n",
    "                general_h[x][x] = specific_h[x]\n",
    "            else:\n",
    "                general_h[x][x] = '?'\n",
    "\n",
    "    print(\"\\nSteps of Candidate Elimination Algorithm\",i+1)\n",
    "    print(specific_h)\n",
    "    print(general_h)"
   ]
  },
  {
   "cell_type": "code",
   "execution_count": null,
   "metadata": {},
   "outputs": [],
   "source": [
    "indices = [i for i, val in enumerate(general_h) if val == ['?', '?', '?', '?', '?', '?']]\n",
    "for i in indices:\n",
    "    general_h.remove(['?', '?', '?', '?', '?', '?'])"
   ]
  },
  {
   "cell_type": "code",
   "execution_count": null,
   "metadata": {},
   "outputs": [],
   "source": [
    "print(\"\\nFinal Specific_h:\", specific_h, sep=\"\\n\")\n",
    "print(\"\\nFinal General_h:\", general_h, sep=\"\\n\")"
   ]
  }
 ],
 "metadata": {
  "language_info": {
   "name": "python"
  }
 },
 "nbformat": 4,
 "nbformat_minor": 2
}
