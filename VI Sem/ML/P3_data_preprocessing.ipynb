{
 "cells": [
  {
   "cell_type": "code",
   "execution_count": 1,
   "metadata": {},
   "outputs": [],
   "source": [
    "import pandas as pd\n"
   ]
  },
  {
   "cell_type": "code",
   "execution_count": 2,
   "metadata": {},
   "outputs": [],
   "source": [
    "customers_data = {\n",
    "    'customer_id': [1, 2, 3, 4, 5],\n",
    "    'first_name': ['Tom', 'Sally', 'James', 'Henry', 'James'],\n",
    "    'last_name': ['Jones', 'Smith', 'Green', 'Black', 'White'],\n",
    "    'age': [23, 34, 45, 56, 67],\n",
    "    'city': ['London', None, 'Liverpool', 'Bristol', 'London'],\n",
    "    'email': ['tom.jones@london.com', 'sally.smith@manchester.com', 'james.green@liverpool.com', 'henry.black@bristol.com', 'james.white@london.com']\n",
    "}\n",
    "\n",
    "orders_data = {\n",
    "    'order_id': [1, 2, 3, 4, 5],\n",
    "    'customer_id': [1, 2, 3, 4, 5],\n",
    "    'order_date': ['2020-01-01', '2020-01-02', '2020-01-03', '2020-01-04', '2020-01-05'],\n",
    "    'amount': [100, 200, 300, 400, 500]\n",
    "}\n",
    "\n",
    "products_data = {\n",
    "    'product_id': [1, 2, 3, 4, 5],\n",
    "    'product_name': ['Macbook Air M1', 'Samsung Galaxy Notebook', 'Asus ROG Strix 15', 'Dell Inspiron 15', 'LG Gram 16'],\n",
    "    'price': [75000, 96000, 81000, 56000, 67000]\n",
    "}"
   ]
  },
  {
   "cell_type": "code",
   "execution_count": 5,
   "metadata": {},
   "outputs": [],
   "source": [
    "customers_df = pd.DataFrame(customers_data)\n",
    "orders_df = pd.DataFrame(orders_data)\n",
    "products_df = pd.DataFrame(products_data)\n",
    "\n",
    "customers_df['age'] = customers_df['age'].fillna(customers_df['age'].mean())\n",
    "customers_df['city'] = customers_df['city'].fillna(customers_df['city'].mode()[0])\n",
    "merged_df = pd.merge(customers_df, orders_df, on='customer_id', how='inner')\n",
    "merged_df['total_amount'] = merged_df['amount'].sum()"
   ]
  },
  {
   "cell_type": "code",
   "execution_count": 6,
   "metadata": {},
   "outputs": [
    {
     "name": "stdout",
     "output_type": "stream",
     "text": [
      "Dataset after cleaning, integration and transformation: \n",
      "   customer_id first_name last_name  age        city  \\\n",
      "0            1        Tom     Jones   23      London   \n",
      "1            2      Sally     Smith   34  Manchester   \n",
      "2            3      James     Green   45   Liverpool   \n",
      "3            4      Henry     Black   56     Bristol   \n",
      "4            5      James     White   67      London   \n",
      "\n",
      "                        email  order_id  order_date  amount  total_amount  \n",
      "0        tom.jones@london.com         1  2020-01-01     100          1500  \n",
      "1  sally.smith@manchester.com         2  2020-01-02     200          1500  \n",
      "2   james.green@liverpool.com         3  2020-01-03     300          1500  \n",
      "3     henry.black@bristol.com         4  2020-01-04     400          1500  \n",
      "4      james.white@london.com         5  2020-01-05     500          1500  \n"
     ]
    }
   ],
   "source": [
    "print(\"Dataset after cleaning, integration and transformation: \")\n",
    "print(merged_df)"
   ]
  },
  {
   "cell_type": "code",
   "execution_count": null,
   "metadata": {},
   "outputs": [],
   "source": []
  }
 ],
 "metadata": {
  "kernelspec": {
   "display_name": "Python 3",
   "language": "python",
   "name": "python3"
  },
  "language_info": {
   "codemirror_mode": {
    "name": "ipython",
    "version": 3
   },
   "file_extension": ".py",
   "mimetype": "text/x-python",
   "name": "python",
   "nbconvert_exporter": "python",
   "pygments_lexer": "ipython3",
   "version": "3.10.12"
  }
 },
 "nbformat": 4,
 "nbformat_minor": 2
}
