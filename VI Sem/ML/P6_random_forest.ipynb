{
 "cells": [
  {
   "cell_type": "code",
   "execution_count": 16,
   "metadata": {},
   "outputs": [],
   "source": [
    "# Import necessary libraries\n",
    "from sklearn.datasets import load_wine\n",
    "from sklearn.model_selection import train_test_split\n",
    "from sklearn.preprocessing import StandardScaler\n",
    "from sklearn.ensemble import RandomForestClassifier\n",
    "from sklearn.metrics import classification_report, confusion_matrix, accuracy_score"
   ]
  },
  {
   "cell_type": "code",
   "execution_count": 17,
   "metadata": {},
   "outputs": [],
   "source": [
    "# Load the wine dataset\n",
    "wine = load_wine()\n",
    "X = wine.data\n",
    "y = wine.target"
   ]
  },
  {
   "cell_type": "code",
   "execution_count": 18,
   "metadata": {},
   "outputs": [],
   "source": [
    "# Scale the data using StandardScaler and split dataset into train and test sets\n",
    "scaler = StandardScaler()\n",
    "X_scaled = scaler.fit_transform(X)\n",
    "X_train, X_test, y_train, y_test = train_test_split(X_scaled, y, test_size=0.2, random_state=42)"
   ]
  },
  {
   "cell_type": "code",
   "execution_count": 19,
   "metadata": {},
   "outputs": [
    {
     "name": "stdout",
     "output_type": "stream",
     "text": [
      "OOB Score for Random Forest = 0.964789\n"
     ]
    }
   ],
   "source": [
    "# Displaying the OOB Score for Random Forest\n",
    "rf_classifier = RandomForestClassifier(oob_score=True, random_state=42)\n",
    "rf_classifier.fit(X_train, y_train)\n",
    "print(f\"OOB Score for Random Forest = {rf_classifier.oob_score_:4f}\")"
   ]
  },
  {
   "cell_type": "code",
   "execution_count": 20,
   "metadata": {},
   "outputs": [
    {
     "name": "stdout",
     "output_type": "stream",
     "text": [
      "Random Forest - Confusion Matrix: \n",
      "[[14  0  0]\n",
      " [ 0 14  0]\n",
      " [ 0  0  8]]\n"
     ]
    }
   ],
   "source": [
    "# Displaying the Confusion Matrix for Random Forest\n",
    "y_pred_rf = rf_classifier.predict(X_test)\n",
    "print(\"Random Forest - Confusion Matrix: \")\n",
    "conf_matrix_rf = confusion_matrix(y_test, y_pred_rf)\n",
    "print(conf_matrix_rf)"
   ]
  },
  {
   "cell_type": "code",
   "execution_count": 21,
   "metadata": {},
   "outputs": [
    {
     "name": "stdout",
     "output_type": "stream",
     "text": [
      "Random Forest - Classification Report: \n",
      "              precision    recall  f1-score   support\n",
      "\n",
      "           0       1.00      1.00      1.00        14\n",
      "           1       1.00      1.00      1.00        14\n",
      "           2       1.00      1.00      1.00         8\n",
      "\n",
      "    accuracy                           1.00        36\n",
      "   macro avg       1.00      1.00      1.00        36\n",
      "weighted avg       1.00      1.00      1.00        36\n",
      "\n"
     ]
    }
   ],
   "source": [
    "# Displaying the Classification Report for Random Forest\n",
    "print(\"Random Forest - Classification Report: \")\n",
    "print(classification_report(y_test, y_pred_rf))"
   ]
  },
  {
   "cell_type": "code",
   "execution_count": 22,
   "metadata": {},
   "outputs": [
    {
     "name": "stdout",
     "output_type": "stream",
     "text": [
      "Accuracy for Random Patches: 0.9722\n"
     ]
    }
   ],
   "source": [
    "# Displaying the Accuracy for Random Patches\n",
    "rf_random_patches = RandomForestClassifier(max_samples=0.8, max_features=0.8, random_state=42)\n",
    "rf_random_patches.fit(X_train, y_train)\n",
    "y_pred_patches = rf_random_patches.predict(X_test)\n",
    "accuracy_patches = accuracy_score(y_test, y_pred_patches)\n",
    "print(f\"Accuracy for Random Patches: {accuracy_patches:.4f}\")"
   ]
  },
  {
   "cell_type": "code",
   "execution_count": 23,
   "metadata": {},
   "outputs": [
    {
     "name": "stdout",
     "output_type": "stream",
     "text": [
      "Accuracy for Random Subspaces: 0.9722\n"
     ]
    }
   ],
   "source": [
    "\n",
    "# Displaying the Accuracy for Random Subspaces\n",
    "rf_random_subspaces = RandomForestClassifier(max_samples=1.0, max_features=0.8, random_state=42)\n",
    "rf_random_subspaces.fit(X_train, y_train)\n",
    "y_pred_subspaces = rf_random_subspaces.predict(X_test)\n",
    "accuracy_subspaces = accuracy_score(y_test, y_pred_subspaces)\n",
    "print(f\"Accuracy for Random Subspaces: {accuracy_subspaces:.4f}\")"
   ]
  }
 ],
 "metadata": {
  "kernelspec": {
   "display_name": "Python 3",
   "language": "python",
   "name": "python3"
  },
  "language_info": {
   "codemirror_mode": {
    "name": "ipython",
    "version": 3
   },
   "file_extension": ".py",
   "mimetype": "text/x-python",
   "name": "python",
   "nbconvert_exporter": "python",
   "pygments_lexer": "ipython3",
   "version": "3.10.12"
  }
 },
 "nbformat": 4,
 "nbformat_minor": 2
}
