{
 "cells": [
  {
   "cell_type": "code",
   "execution_count": 8,
   "metadata": {},
   "outputs": [],
   "source": [
    "# Import Libraries\n",
    "import pandas as pd\n",
    "import numpy as np"
   ]
  },
  {
   "cell_type": "code",
   "execution_count": 9,
   "metadata": {},
   "outputs": [],
   "source": [
    "# Read the CSV file and Splitting the data\n",
    "data = pd.read_csv('./datasets/P8_dataset.csv')\n",
    "\n",
    "X = data[['glucose', 'bloodpressure']]\n",
    "y = data['diabetes']"
   ]
  },
  {
   "cell_type": "code",
   "execution_count": 13,
   "metadata": {},
   "outputs": [],
   "source": [
    "# Calculate Prior Probabilities\n",
    "class_prior = y.value_counts(normalize=True)\n",
    "\n",
    "# Calculate Likelihoods using Gaussian distribution\n",
    "likelihoods = {\n",
    "    feature: {\n",
    "        class_value: {\n",
    "            'mean': X[feature][y == class_value].mean(),\n",
    "            'std': X[feature][y == class_value].std()\n",
    "        }\n",
    "        for class_value in y.unique()\n",
    "    }\n",
    "    for feature in X.columns\n",
    "}"
   ]
  },
  {
   "cell_type": "code",
   "execution_count": 14,
   "metadata": {},
   "outputs": [],
   "source": [
    "# Gaussian PDF Function\n",
    "def gaussian_pdf(x, mean, std):\n",
    "    return (1 / (np.sqrt(2 * np.pi) * std)) * np.exp(-((x - mean) ** 2 / (2 * std ** 2)))\n",
    "\n",
    "# Classify New Data Points\n",
    "def classify(instance):\n",
    "    posteriors = {}\n",
    "    for class_value in class_prior.index:\n",
    "        posterior = class_prior[class_value]\n",
    "        for feature in instance.index:\n",
    "            mean = likelihoods[feature][class_value]['mean']\n",
    "            std = likelihoods[feature][class_value]['std']\n",
    "            posterior *= gaussian_pdf(instance[feature], mean, std)\n",
    "        posteriors[class_value] = posterior\n",
    "    return max(posteriors, key=posteriors.get)"
   ]
  },
  {
   "cell_type": "code",
   "execution_count": 15,
   "metadata": {},
   "outputs": [
    {
     "name": "stdout",
     "output_type": "stream",
     "text": [
      "The predicted class for the instance {'glucose': 120, 'bloodpressure': 70} is Yes\n"
     ]
    }
   ],
   "source": [
    "# Example: Classify a new instance\n",
    "new_instance = pd.Series({'glucose': 120, 'bloodpressure': 70})\n",
    "predicted_class = classify(new_instance)\n",
    "predicted_class_label = 'Yes' if predicted_class == 1 else 'No'\n",
    "print(f'The predicted class for the instance {new_instance.to_dict()} is {predicted_class_label}')"
   ]
  }
 ],
 "metadata": {
  "kernelspec": {
   "display_name": "Python 3",
   "language": "python",
   "name": "python3"
  },
  "language_info": {
   "codemirror_mode": {
    "name": "ipython",
    "version": 3
   },
   "file_extension": ".py",
   "mimetype": "text/x-python",
   "name": "python",
   "nbconvert_exporter": "python",
   "pygments_lexer": "ipython3",
   "version": "3.10.12"
  }
 },
 "nbformat": 4,
 "nbformat_minor": 2
}
