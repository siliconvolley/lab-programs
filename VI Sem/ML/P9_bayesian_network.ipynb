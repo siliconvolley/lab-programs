{
 "cells": [
  {
   "cell_type": "code",
   "execution_count": 33,
   "metadata": {},
   "outputs": [],
   "source": [
    "# Importing necessary libraries\n",
    "import numpy as np\n",
    "import pandas as pd\n",
    "from pgmpy.models import BayesianNetwork\n",
    "from pgmpy.estimators import MaximumLikelihoodEstimator\n",
    "from pgmpy.inference import VariableElimination\n",
    "from sklearn.preprocessing import KBinsDiscretizer\n",
    "import matplotlib.pyplot as plt"
   ]
  },
  {
   "cell_type": "code",
   "execution_count": 34,
   "metadata": {},
   "outputs": [
    {
     "name": "stdout",
     "output_type": "stream",
     "text": [
      "Few examples from the dataset are given below\n",
      "   age  sex  cp  trestbps  chol  fbs  restecg  thalach  exang  oldpeak  slope  \\\n",
      "0   63    1   1       145   233    1        2      150      0      2.3      3   \n",
      "1   67    1   4       160   286    0        2      108      1      1.5      2   \n",
      "2   67    1   4       120   229    0        2      129      1      2.6      2   \n",
      "3   37    1   3       130   250    0        0      187      0      3.5      3   \n",
      "4   41    0   2       130   204    0        2      172      0      1.4      1   \n",
      "\n",
      "  ca thal  heartdisease  \n",
      "0  0    6             0  \n",
      "1  3    3             2  \n",
      "2  2    7             1  \n",
      "3  0    3             0  \n",
      "4  0    3             0  \n"
     ]
    }
   ],
   "source": [
    "# Loading the Heart Disease Dataset\n",
    "heartdisease = pd.read_csv('./datasets/P9_dataset.csv')\n",
    "heartdisease = heartdisease.replace('?', np.nan)\n",
    "\n",
    "print('Few examples from the dataset are given below')\n",
    "print(heartdisease.head())"
   ]
  },
  {
   "cell_type": "code",
   "execution_count": 29,
   "metadata": {},
   "outputs": [],
   "source": [
    "# Initializing a KBinsDiscretizer\n",
    "discretizer = KBinsDiscretizer(n_bins=5, encode='ordinal', strategy='uniform')\n",
    "continuous_vars = ['age', 'trestbps', 'chol', 'thalach', 'oldpeak']\n",
    "\n",
    "heartdisease[continuous_vars] = discretizer.fit_transform(heartdisease[continuous_vars])"
   ]
  },
  {
   "cell_type": "code",
   "execution_count": 30,
   "metadata": {},
   "outputs": [
    {
     "name": "stdout",
     "output_type": "stream",
     "text": [
      "\n",
      "Learning CPD using Maximum likelihood estimators\n",
      "\n",
      "Inferencing with Bayesian Network:\n"
     ]
    }
   ],
   "source": [
    "# Defining the structure of the Bayesian Network\n",
    "model = BayesianNetwork([('age', 'trestbps'), ('age', 'fbs'),\n",
    "                         ('sex', 'trestbps'), ('exang', 'trestbps'),\n",
    "                         ('trestbps', 'heartdisease'), ('fbs', 'heartdisease'),\n",
    "                         ('heartdisease', 'restecg'), ('heartdisease', 'thalach'),\n",
    "                         ('chol', 'heartdisease')])\n",
    "\n",
    "print('\\nLearning CPD using Maximum likelihood estimators')\n",
    "model.fit(heartdisease, estimator=MaximumLikelihoodEstimator)\n",
    "\n",
    "print('\\nInferencing with Bayesian Network:')\n",
    "HeartDisease_infer = VariableElimination(model)"
   ]
  },
  {
   "cell_type": "code",
   "execution_count": 31,
   "metadata": {},
   "outputs": [
    {
     "name": "stderr",
     "output_type": "stream",
     "text": [
      "/home/rishabh/.local/lib/python3.10/site-packages/sklearn/base.py:493: UserWarning: X does not have valid feature names, but KBinsDiscretizer was fitted with feature names\n",
      "  warnings.warn(\n",
      "/home/rishabh/.local/lib/python3.10/site-packages/sklearn/base.py:493: UserWarning: X does not have valid feature names, but KBinsDiscretizer was fitted with feature names\n",
      "  warnings.warn(\n"
     ]
    }
   ],
   "source": [
    "# Discretizing specific evidence values for age and cholesterol\n",
    "evidence_age = discretizer.transform(np.array([[30, 0, 0, 0, 0]]))[0][0]\n",
    "\n",
    "evidence_chol = discretizer.transform(np.array([[0, 0, 254, 0, 0]]))[0][2]"
   ]
  },
  {
   "cell_type": "code",
   "execution_count": 35,
   "metadata": {},
   "outputs": [
    {
     "name": "stdout",
     "output_type": "stream",
     "text": [
      "\n",
      "1. Probability of HeartDisease given Age=30\n",
      "+-----------------+---------------------+\n",
      "| heartdisease    |   phi(heartdisease) |\n",
      "+=================+=====================+\n",
      "| heartdisease(0) |              0.5399 |\n",
      "+-----------------+---------------------+\n",
      "| heartdisease(1) |              0.1946 |\n",
      "+-----------------+---------------------+\n",
      "| heartdisease(2) |              0.1121 |\n",
      "+-----------------+---------------------+\n",
      "| heartdisease(3) |              0.1151 |\n",
      "+-----------------+---------------------+\n",
      "| heartdisease(4) |              0.0383 |\n",
      "+-----------------+---------------------+\n",
      "\n",
      "2. Probability of HeartDisease given cholesterol=254\n",
      "+-----------------+---------------------+\n",
      "| heartdisease    |   phi(heartdisease) |\n",
      "+=================+=====================+\n",
      "| heartdisease(0) |              0.5203 |\n",
      "+-----------------+---------------------+\n",
      "| heartdisease(1) |              0.2275 |\n",
      "+-----------------+---------------------+\n",
      "| heartdisease(2) |              0.1121 |\n",
      "+-----------------+---------------------+\n",
      "| heartdisease(3) |              0.1085 |\n",
      "+-----------------+---------------------+\n",
      "| heartdisease(4) |              0.0316 |\n",
      "+-----------------+---------------------+\n"
     ]
    }
   ],
   "source": [
    "# Displaying the probability for Heart Disease given Age=30 and Cholesterol=254\n",
    "print('\\n1. Probability of HeartDisease given Age=30')\n",
    "q = HeartDisease_infer.query(variables=['heartdisease'], evidence={'age': int(evidence_age)})\n",
    "print(q)\n",
    "\n",
    "print('\\n2. Probability of HeartDisease given cholesterol=254')\n",
    "q = HeartDisease_infer.query(variables=['heartdisease'], evidence={'chol': int(evidence_chol)})\n",
    "print(q)"
   ]
  }
 ],
 "metadata": {
  "kernelspec": {
   "display_name": "Python 3",
   "language": "python",
   "name": "python3"
  },
  "language_info": {
   "codemirror_mode": {
    "name": "ipython",
    "version": 3
   },
   "file_extension": ".py",
   "mimetype": "text/x-python",
   "name": "python",
   "nbconvert_exporter": "python",
   "pygments_lexer": "ipython3",
   "version": "3.10.12"
  }
 },
 "nbformat": 4,
 "nbformat_minor": 2
}
