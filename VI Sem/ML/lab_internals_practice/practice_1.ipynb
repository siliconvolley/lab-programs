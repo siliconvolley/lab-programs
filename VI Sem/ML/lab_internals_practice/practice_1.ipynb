{
 "cells": [
  {
   "cell_type": "code",
   "execution_count": 5,
   "metadata": {},
   "outputs": [],
   "source": [
    "import csv"
   ]
  },
  {
   "cell_type": "code",
   "execution_count": 6,
   "metadata": {},
   "outputs": [
    {
     "name": "stdout",
     "output_type": "stream",
     "text": [
      "[['sky', 'airtemp', 'humidity', 'wind', 'water', 'forcast', 'enjoysport'], ['sunny', 'warm', 'normal', 'strong', 'warm', 'same', '1'], ['sunny', 'warm', 'high', 'strong', 'warm', 'same', '1'], ['rainy', 'cold', 'high', 'strong', 'warm', 'change', '0'], ['sunny', 'warm', 'high', 'strong', 'cool', 'change', '1']]\n"
     ]
    }
   ],
   "source": [
    "dataset = []\n",
    "\n",
    "with open('./enjoysport.csv', 'r') as csv_dataset:\n",
    "    for row in csv.reader(csv_dataset):\n",
    "        dataset.append(row)\n",
    "\n",
    "    print(dataset)"
   ]
  },
  {
   "cell_type": "code",
   "execution_count": 9,
   "metadata": {},
   "outputs": [
    {
     "name": "stdout",
     "output_type": "stream",
     "text": [
      "['sunny', 'warm', 'normal', 'strong', 'warm', 'same']\n",
      "['sunny', 'warm', '?', 'strong', 'warm', 'same']\n",
      "['sunny', 'warm', '?', 'strong', 'warm', 'same']\n",
      "['sunny', 'warm', '?', 'strong', '?', '?']\n"
     ]
    }
   ],
   "source": [
    "attribute_count = len(dataset[0]) - 1\n",
    "hypothesis = ['0'] * attribute_count\n",
    "\n",
    "for row in range(1, len(dataset)):\n",
    "    if dataset[row][attribute_count] == '1':\n",
    "        for data in range(0, attribute_count):\n",
    "            if hypothesis[data] == '0' or hypothesis[data] == dataset[row][data]:\n",
    "                hypothesis[data] = dataset[row][data]\n",
    "            else:\n",
    "                hypothesis[data] = '?'\n",
    "\n",
    "    print(hypothesis)"
   ]
  },
  {
   "cell_type": "code",
   "execution_count": null,
   "metadata": {},
   "outputs": [],
   "source": []
  }
 ],
 "metadata": {
  "kernelspec": {
   "display_name": "Python 3",
   "language": "python",
   "name": "python3"
  },
  "language_info": {
   "codemirror_mode": {
    "name": "ipython",
    "version": 3
   },
   "file_extension": ".py",
   "mimetype": "text/x-python",
   "name": "python",
   "nbconvert_exporter": "python",
   "pygments_lexer": "ipython3",
   "version": "3.10.12"
  }
 },
 "nbformat": 4,
 "nbformat_minor": 2
}
