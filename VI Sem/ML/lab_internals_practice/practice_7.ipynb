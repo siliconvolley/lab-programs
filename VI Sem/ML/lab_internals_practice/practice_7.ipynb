{
 "cells": [
  {
   "cell_type": "code",
   "execution_count": 24,
   "metadata": {},
   "outputs": [],
   "source": [
    "from sklearn.datasets import fetch_20newsgroups_vectorized\n",
    "from sklearn.model_selection import train_test_split\n",
    "from sklearn.naive_bayes import MultinomialNB\n",
    "from sklearn.metrics import accuracy_score, classification_report, confusion_matrix"
   ]
  },
  {
   "cell_type": "code",
   "execution_count": 25,
   "metadata": {},
   "outputs": [],
   "source": [
    "news_groups = fetch_20newsgroups_vectorized()\n",
    "X = news_groups.data\n",
    "y = news_groups.target\n",
    "\n",
    "X_train, X_test, y_train, y_test = train_test_split(X, y, test_size=0.3, random_state=42)"
   ]
  },
  {
   "cell_type": "code",
   "execution_count": 26,
   "metadata": {},
   "outputs": [],
   "source": [
    "multinomial_classifier = MultinomialNB()\n",
    "multinomial_classifier.fit(X_train, y_train)\n",
    "\n",
    "y_pred = multinomial_classifier.predict(X_test)"
   ]
  },
  {
   "cell_type": "code",
   "execution_count": 27,
   "metadata": {},
   "outputs": [
    {
     "name": "stdout",
     "output_type": "stream",
     "text": [
      "Accuracy Score:  0.7337260677466863\n",
      "Classification Report: \n",
      "               precision    recall  f1-score   support\n",
      "\n",
      "           0       0.90      0.39      0.55       140\n",
      "           1       0.81      0.63      0.71       174\n",
      "           2       0.86      0.70      0.77       180\n",
      "           3       0.66      0.76      0.71       177\n",
      "           4       0.74      0.81      0.77       162\n",
      "           5       0.85      0.80      0.83       176\n",
      "           6       0.90      0.66      0.76       176\n",
      "           7       0.47      0.93      0.63       168\n",
      "           8       0.94      0.77      0.85       186\n",
      "           9       0.93      0.90      0.91       181\n",
      "          10       0.89      0.92      0.91       171\n",
      "          11       0.60      0.95      0.74       188\n",
      "          12       0.95      0.39      0.55       198\n",
      "          13       0.84      0.89      0.87       178\n",
      "          14       0.88      0.86      0.87       183\n",
      "          15       0.39      0.97      0.56       186\n",
      "          16       0.89      0.81      0.85       170\n",
      "          17       0.94      0.87      0.90       168\n",
      "          18       1.00      0.13      0.23       137\n",
      "          19       1.00      0.01      0.02        96\n",
      "\n",
      "    accuracy                           0.73      3395\n",
      "   macro avg       0.82      0.71      0.70      3395\n",
      "weighted avg       0.82      0.73      0.72      3395\n",
      "\n",
      "Confusion Matrix: \n",
      " [[ 55   0   0   0   0   0   0   0   0   1   0   2   0   2   0  80   0   0\n",
      "    0   0]\n",
      " [  0 110   4   9   7   9   0   9   0   1   1   7   1   2   6   8   0   0\n",
      "    0   0]\n",
      " [  0   4 126  16   2  11   0  10   0   0   0   5   0   1   1   4   0   0\n",
      "    0   0]\n",
      " [  0   6   5 135   5   1   3  10   0   0   0   7   0   4   1   0   0   0\n",
      "    0   0]\n",
      " [  0   0   0  12 131   0   4   7   1   0   0   3   0   1   0   3   0   0\n",
      "    0   0]\n",
      " [  0   6   3   5   3 141   0   4   1   0   1   9   0   0   1   2   0   0\n",
      "    0   0]\n",
      " [  0   1   3  10   4   1 116  22   3   1   4   7   2   0   0   2   0   0\n",
      "    0   0]\n",
      " [  0   0   0   1   1   0   3 157   1   0   0   0   0   0   1   4   0   0\n",
      "    0   0]\n",
      " [  0   1   0   0   3   0   1  29 143   1   0   2   0   1   0   5   0   0\n",
      "    0   0]\n",
      " [  0   2   0   0   1   1   0   6   0 162   6   0   0   0   0   3   0   0\n",
      "    0   0]\n",
      " [  0   0   0   0   1   0   2   1   2   2 158   1   0   0   0   4   0   0\n",
      "    0   0]\n",
      " [  0   1   3   1   0   0   0   1   0   0   1 179   0   0   0   2   0   0\n",
      "    0   0]\n",
      " [  0   4   2  13  16   0   0  41   0   0   1  29  77   4   6   5   0   0\n",
      "    0   0]\n",
      " [  0   0   0   0   1   0   0   8   0   1   0   5   0 159   2   2   0   0\n",
      "    0   0]\n",
      " [  0   0   0   0   1   1   0   4   1   0   1   3   1   3 158  10   0   0\n",
      "    0   0]\n",
      " [  0   0   0   0   0   0   0   2   0   0   1   1   0   0   0 181   0   1\n",
      "    0   0]\n",
      " [  1   0   0   0   0   0   0   7   0   0   0   9   0   3   1  10 138   1\n",
      "    0   0]\n",
      " [  0   0   0   0   0   0   0   1   0   0   1   2   0   1   0  17   0 146\n",
      "    0   0]\n",
      " [  0   0   0   0   0   0   0  12   0   5   1  24   0   3   1  57  11   5\n",
      "   18   0]\n",
      " [  5   0   0   3   1   0   0   2   0   1   1   4   0   5   1  63   6   3\n",
      "    0   1]]\n"
     ]
    }
   ],
   "source": [
    "print(\"Accuracy Score: \", accuracy_score(y_test, y_pred))\n",
    "print(\"Classification Report: \\n\", classification_report(y_test, y_pred))\n",
    "print(\"Confusion Matrix: \\n\", confusion_matrix(y_test, y_pred))"
   ]
  },
  {
   "cell_type": "code",
   "execution_count": null,
   "metadata": {},
   "outputs": [],
   "source": []
  }
 ],
 "metadata": {
  "kernelspec": {
   "display_name": "Python 3",
   "language": "python",
   "name": "python3"
  },
  "language_info": {
   "codemirror_mode": {
    "name": "ipython",
    "version": 3
   },
   "file_extension": ".py",
   "mimetype": "text/x-python",
   "name": "python",
   "nbconvert_exporter": "python",
   "pygments_lexer": "ipython3",
   "version": "3.10.12"
  }
 },
 "nbformat": 4,
 "nbformat_minor": 2
}
